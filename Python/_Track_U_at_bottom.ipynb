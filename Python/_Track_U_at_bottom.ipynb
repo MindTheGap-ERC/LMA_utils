{
 "cells": [
  {
   "cell_type": "code",
   "execution_count": 1,
   "id": "8c57671c",
   "metadata": {},
   "outputs": [],
   "source": [
    "import numpy as np\n",
    "import pandas as pd\n",
    "import datahugger\n",
    "import h5py"
   ]
  },
  {
   "cell_type": "code",
   "execution_count": 2,
   "id": "f440f981",
   "metadata": {},
   "outputs": [
    {
     "name": "stdout",
     "output_type": "stream",
     "text": [
      "File already exists: 19_09_2023_22_58_21/LMAHeureuxPorosityDiff.hdf5\n",
      "File already exists: 19_09_2023_22_58_21/U_at_bottom.h5\n"
     ]
    },
    {
     "name": "stderr",
     "output_type": "stream",
     "text": [
      "21_09_2023_09_29_17/U_at_bottom.h5 : 100%|███████████████████████████| 147k/147k\n",
      "21_09_2023_09_29_17/LMAHe[...].hdf5: 100%|█████████████████████████| 21.0M/21.0M"
     ]
    },
    {
     "name": "stdout",
     "output_type": "stream",
     "text": [
      "data/\n",
      "├── 19_09_2023_22_58_21/\n",
      "│   ├── LMAHeureuxPorosityDiff.hdf5\n",
      "│   └── U_at_bottom.h5\n",
      "└── 21_09_2023_09_29_17/\n",
      "    ├── LMAHeureuxPorosityDiff.hdf5\n",
      "    └── U_at_bottom.h5\n",
      "\n",
      "2 directories, 4 files\n",
      "\u001b[34mREADME\u001b[0m \u001b[32mData\u001b[0m \u001b[31mCode\u001b[0m\n"
     ]
    },
    {
     "name": "stderr",
     "output_type": "stream",
     "text": [
      "\n"
     ]
    }
   ],
   "source": [
    "dh = datahugger.get(\"10.17605/OSF.IO/EWS27\", \"../data\")\n",
    "dh.tree() # Remains to be done: extracting the paths instead of hardcoded (as below):"
   ]
  },
  {
   "cell_type": "markdown",
   "id": "014109f2",
   "metadata": {},
   "source": [
    "Importing U_at_bottom.h5 using h5py results in an odd file structure so for now using pandas instead."
   ]
  },
  {
   "cell_type": "code",
   "execution_count": 3,
   "id": "3d5001f9",
   "metadata": {},
   "outputs": [
    {
     "data": {
      "text/plain": [
       "(3001, 2)"
      ]
     },
     "execution_count": 3,
     "metadata": {},
     "output_type": "execute_result"
    }
   ],
   "source": [
    "U_path = \"../data/21_09_2023_09_29_17/U_at_bottom.h5\"\n",
    "U_file = pd.read_hdf(U_path)\n",
    "U_at_bottom_and_times = U_file.to_numpy()\n",
    "U_at_bottom_and_times.shape"
   ]
  },
  {
   "cell_type": "code",
   "execution_count": 4,
   "id": "24f14f2d",
   "metadata": {},
   "outputs": [
    {
     "data": {
      "text/plain": [
       "(3001, 5, 200)"
      ]
     },
     "execution_count": 4,
     "metadata": {},
     "output_type": "execute_result"
    }
   ],
   "source": [
    "Solution_path = '../data/21_09_2023_09_29_17/LMAHeureuxPorosityDiff.hdf5' # Also to be downloaded\n",
    "Solution = h5py.File(Solution_path, 'r')\n",
    "data = Solution['data']\n",
    "data.shape"
   ]
  },
  {
   "cell_type": "markdown",
   "id": "30eb9858",
   "metadata": {},
   "source": [
    "Check the values of U at the bottom:"
   ]
  },
  {
   "cell_type": "code",
   "execution_count": 5,
   "id": "4a81196f",
   "metadata": {},
   "outputs": [
    {
     "data": {
      "text/plain": [
       "array([12.53908529, 12.53908529, 12.53908529, 12.53908529, 12.53908529])"
      ]
     },
     "execution_count": 5,
     "metadata": {},
     "output_type": "execute_result"
    }
   ],
   "source": [
    "U_at_bottom_and_times[2995:3000, 1]"
   ]
  },
  {
   "cell_type": "code",
   "execution_count": 6,
   "id": "6270ea43",
   "metadata": {},
   "outputs": [
    {
     "data": {
      "image/png": "[encoded data removed]",
      "text/plain": [
       "<Figure size 1000x600 with 1 Axes>"
      ]
     },
     "metadata": {},
     "output_type": "display_data"
    }
   ],
   "source": [
    "import pylab as pyl\n",
    "pyl.figure(figsize=(10,6))\n",
    "pyl.plot(U_at_bottom_and_times[:, 0], U_at_bottom_and_times[:, 1], \".\")\n",
    "pyl.xlabel(\"Times T*\")\n",
    "pyl.ylabel(\"U\")\n",
    "pyl.show()"
   ]
  },
  {
   "cell_type": "markdown",
   "id": "57366d3d",
   "metadata": {},
   "source": [
    "### What is it supposed to be according to Eq. 46.\n",
    "The formula for K (Eq. 15 in L'Heureux 2018) is used for moderate (0.05, 0.95) values of phi in Fortran and throughout in Python. So it might need changing for phi at the bottom for the calculation of U.\n",
    "\n",
    "$ K = \\beta\\frac{\\phi^{3}}{(1-\\phi)^{2}}F(\\phi)$\n",
    "\n",
    "where\n",
    "\n",
    "$F(\\phi) = 1 - exp\\Bigg(-\\frac{10(1-\\phi)}{\\phi}\\Bigg)$"
   ]
  },
  {
   "cell_type": "code",
   "execution_count": 7,
   "id": "bc0e2b09",
   "metadata": {},
   "outputs": [],
   "source": [
    "def k_normal(phi):\n",
    "    k = betasV * phi ** 3 / (1 - phi) ** 2\n",
    "    k = k * (1 - np.exp(-10 * (1 - phi) / phi))\n",
    "    return k"
   ]
  },
  {
   "cell_type": "markdown",
   "id": "07c0a38e",
   "metadata": {},
   "source": [
    "Keeping the same convention as in Fortran for easy comparing, at the expense of creating redundant variables:"
   ]
  },
  {
   "cell_type": "code",
   "execution_count": 9,
   "id": "646843af",
   "metadata": {},
   "outputs": [],
   "source": [
    "S = float(Solution.attrs['sedimentationrate'])\n",
    "Vscale = S \n",
    "beta = float(Solution.attrs['beta']) # cm/a\n",
    "P_32 = beta/Vscale\n",
    "betasV = P_32"
   ]
  },
  {
   "cell_type": "code",
   "execution_count": 10,
   "id": "25e866c5",
   "metadata": {},
   "outputs": [
    {
     "data": {
      "text/plain": [
       "2.8630000000000004"
      ]
     },
     "execution_count": 10,
     "metadata": {},
     "output_type": "execute_result"
    }
   ],
   "source": [
    "phi0 = float(Solution.attrs['Phi0'])\n",
    "rhow = float(Solution.attrs['rhow'])\n",
    "rhoa = float(Solution.attrs['rhoa'])\n",
    "CA0 = float(Solution.attrs['CA0'])\n",
    "rhoc = float(Solution.attrs['rhoc'])\n",
    "CC0 = float(Solution.attrs['CC0'])\n",
    "rhot = float(Solution.attrs['rhot'])\n",
    "rhos0 = rhoa * CA0 + rhoc * CC0 + rhot * (1 - (CA0 + CC0))\n",
    "rhos0"
   ]
  },
  {
   "cell_type": "code",
   "execution_count": 11,
   "id": "7aa1dd5a",
   "metadata": {},
   "outputs": [],
   "source": [
    "phi_bottom = data[3000,4,199]\n",
    "CA = data[3000,0,199]\n",
    "CC = data[3000,1,199]\n",
    "rhos_bottom = rhoa * CA + rhoc * CC + rhot * (1 - (CA + CC))"
   ]
  },
  {
   "cell_type": "code",
   "execution_count": 23,
   "id": "d48812fb",
   "metadata": {},
   "outputs": [],
   "source": [
    "U_equation = 1 - k_normal(phi0)/S * (1 - phi0) * (rhos0/rhow - 1) + k_normal(phi_bottom)/S * (1 - phi_bottom) * (rhos_bottom/rhow - 1)"
   ]
  },
  {
   "cell_type": "markdown",
   "id": "8193344f",
   "metadata": {},
   "source": [
    "Ee. 46 is:\n",
    "\n",
    "$U = 1 - \\frac{K(\\phi^{0})}{S}(1-\\phi^{0})\\Bigg(\\frac{\\rho_{s}^{0}}{\\rho_{w}}-1\\Bigg)+\\frac{K(\\phi)}{S}(1-\\phi)\\Bigg(\\frac{\\rho_{s}}{\\rho_{w}}-1\\Bigg) $"
   ]
  },
  {
   "cell_type": "code",
   "execution_count": 24,
   "id": "3c3673cf",
   "metadata": {},
   "outputs": [
    {
     "data": {
      "text/plain": [
       "110.74179140013992"
      ]
     },
     "execution_count": 24,
     "metadata": {},
     "output_type": "execute_result"
    }
   ],
   "source": [
    "U_equation"
   ]
  },
  {
   "cell_type": "markdown",
   "id": "37a0cf45",
   "metadata": {},
   "source": [
    "Whereas U saved from the solution is:"
   ]
  },
  {
   "cell_type": "code",
   "execution_count": 32,
   "id": "9c6f410f",
   "metadata": {},
   "outputs": [
    {
     "data": {
      "text/plain": [
       "12.539085291417724"
      ]
     },
     "execution_count": 32,
     "metadata": {},
     "output_type": "execute_result"
    }
   ],
   "source": [
    "U_at_bottom_and_times[3000, 1]"
   ]
  },
  {
   "cell_type": "markdown",
   "id": "7329f8e1",
   "metadata": {},
   "source": [
    "Let's try to track why the latter is different. In marlpde, we have:\n",
    "\n",
    "`U = presum + rhorat * Phi ** 3 * F /one_minus_Phi`\n",
    "\n",
    "so let's doodle what it gives at the bottom:"
   ]
  },
  {
   "cell_type": "code",
   "execution_count": 26,
   "id": "a9c3daa4",
   "metadata": {},
   "outputs": [
    {
     "data": {
      "text/plain": [
       "1.7986314760508315"
      ]
     },
     "execution_count": 26,
     "metadata": {},
     "output_type": "execute_result"
    }
   ],
   "source": [
    "rhorat0 = (rhos0 / rhow - 1) * beta / S\n",
    "rhorat0"
   ]
  },
  {
   "cell_type": "code",
   "execution_count": 27,
   "id": "3c8a264a",
   "metadata": {},
   "outputs": [
    {
     "data": {
      "text/plain": [
       "-3.2265364833646046"
      ]
     },
     "execution_count": 27,
     "metadata": {},
     "output_type": "execute_result"
    }
   ],
   "source": [
    "presum = 1 - rhorat0 * phi0 ** 3 * (1 - np.exp(10 - 10 / phi0)) / (1 - phi0)\n",
    "presum"
   ]
  },
  {
   "cell_type": "code",
   "execution_count": 28,
   "id": "c5ac60a2",
   "metadata": {},
   "outputs": [],
   "source": [
    "rhorat = (rhos_bottom / rhow - 1) * beta / S\n",
    "F = 1 - np.exp(10 - 10 / phi_bottom)"
   ]
  },
  {
   "cell_type": "code",
   "execution_count": 29,
   "id": "c5562547",
   "metadata": {},
   "outputs": [
    {
     "data": {
      "text/plain": [
       "11.974179140013982"
      ]
     },
     "execution_count": 29,
     "metadata": {},
     "output_type": "execute_result"
    }
   ],
   "source": [
    "U_marlpde = presum + rhorat * phi_bottom ** 3 * F /(1 - phi_bottom)\n",
    "U_marlpde"
   ]
  },
  {
   "cell_type": "markdown",
   "id": "e5b75383",
   "metadata": {},
   "source": [
    "Sadly notebooks do not seem to support inline variable evaluation inside markdown cells, so a clunky summary:"
   ]
  },
  {
   "cell_type": "code",
   "execution_count": 39,
   "id": "f7a9ffbf",
   "metadata": {},
   "outputs": [
    {
     "data": {
      "text/plain": [
       "'U calculated from Eq. 46 = 110.74, U exported into hdf5 = 12.54, U calculated in marlpde = 11.97'"
      ]
     },
     "execution_count": 39,
     "metadata": {},
     "output_type": "execute_result"
    }
   ],
   "source": [
    "f\"U calculated from Eq. 46 = {round(U_equation, 2)}, U exported into hdf5 = {round(U_at_bottom_and_times[3000, 1],2)}, U calculated in marlpde = {round(U_marlpde,2)}\""
   ]
  },
  {
   "cell_type": "code",
   "execution_count": 40,
   "id": "1f289bcb",
   "metadata": {},
   "outputs": [
    {
     "data": {
      "image/png": "[encoded data removed]",
      "text/plain": [
       "<Figure size 640x480 with 1 Axes>"
      ]
     },
     "metadata": {},
     "output_type": "display_data"
    }
   ],
   "source": [
    "import matplotlib.pyplot as plt\n",
    "t = np.array(Solution['times'][:])\n",
    "s = np.array(data[:,:,0])\n",
    "fig, ax = plt.subplots()\n",
    "ax.plot(t, s)\n",
    "ax.set(xlabel='time [T*]', ylabel='Compounds/Porosity',\n",
    "       title=f\"Phi0 = {phi0}, PhiIni = {Solution.attrs['PhiIni']}\")\n",
    "ax.grid()"
   ]
  },
  {
   "cell_type": "code",
   "execution_count": null,
   "id": "425f7dee",
   "metadata": {},
   "outputs": [],
   "source": []
  }
 ],
 "metadata": {
  "kernelspec": {
   "display_name": "Python 3 (ipykernel)",
   "language": "python",
   "name": "python3"
  },
  "language_info": {
   "codemirror_mode": {
    "name": "ipython",
    "version": 3
   },
   "file_extension": ".py",
   "mimetype": "text/x-python",
   "name": "python",
   "nbconvert_exporter": "python",
   "pygments_lexer": "ipython3",
   "version": "3.9.13"
  }
 },
 "nbformat": 4,
 "nbformat_minor": 5
}
