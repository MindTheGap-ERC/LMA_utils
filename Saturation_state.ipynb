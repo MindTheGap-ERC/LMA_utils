{
 "cells": [
  {
   "cell_type": "code",
   "execution_count": 1,
   "id": "21e7c806",
   "metadata": {},
   "outputs": [],
   "source": [
    "import numpy as np\n",
    "import h5py"
   ]
  },
  {
   "cell_type": "markdown",
   "id": "8625f15b",
   "metadata": {},
   "source": [
    "The import of the file needs to be changed to reading from an online storage."
   ]
  },
  {
   "cell_type": "code",
   "execution_count": 16,
   "id": "4e5ba1b7",
   "metadata": {},
   "outputs": [],
   "source": [
    "file = '/Users/emilia/Documents/Documents - UU101746/GitHub/Results/19_09_2023_13_26_35/LMAHeureuxPorosityDiff.hdf5'\n",
    "\n",
    "f = h5py.File(file, 'r')"
   ]
  },
  {
   "cell_type": "code",
   "execution_count": 17,
   "id": "dc8e6f02",
   "metadata": {},
   "outputs": [
    {
     "data": {
      "text/plain": [
       "<KeysViewHDF5 ['CA0', 'CAIni', 'CC0', 'CCIni', 'D0Ca', 'DCO3', 'DCa', 'DeepLimit', 'KA', 'KC', 'N', 'Phi0', 'PhiInfty', 'PhiIni', 'PhiNR', 'ShallowLimit', 'Th', 'Tstar', 'Xstar', 'adaptive', 'b', 'backend', 'beta', 'cCO30', 'cCO3Ini', 'cCa0', 'cCaIni', 'ca0', 'ca00', 'co30', 'co300', 'controller', 'data_length', 'data_tracker_interval', 'dt', 'eps', 'field_attributes', 'k1', 'k2', 'k3', 'k4', 'live_plotting', 'm1', 'm2', 'max_depth', 'muA', 'n1', 'n2', 'outt', 'outx', 'package_version', 'plotting_interval', 'progress_tracker_interval', 'retinfo', 'rhoa', 'rhoc', 'rhos', 'rhos0', 'rhot', 'rhow', 'scheme', 'sedimentationrate', 'tmax', 'track_U_at_bottom']>"
      ]
     },
     "execution_count": 17,
     "metadata": {},
     "output_type": "execute_result"
    }
   ],
   "source": [
    "f.attrs.keys()"
   ]
  },
  {
   "cell_type": "markdown",
   "id": "1d253cfb",
   "metadata": {},
   "source": [
    "Values through time, on the surface:"
   ]
  },
  {
   "cell_type": "code",
   "execution_count": 58,
   "id": "25da90a0",
   "metadata": {},
   "outputs": [],
   "source": [
    "c_Ca = np.array(f['data'][:,2,0])\n",
    "c_CO3 = np.array(f['data'][:,3,0])\n",
    "n = 2.80\n",
    "m = 2.48\n",
    "K_A = 10 ** -6.19\n",
    "K_C = 10 ** -6.37"
   ]
  },
  {
   "cell_type": "code",
   "execution_count": 59,
   "id": "704265ea",
   "metadata": {},
   "outputs": [],
   "source": [
    "O_PC0 = (c_Ca * c_CO3 - 1)\n",
    "O_PC0[O_PC0 < 0] = 0 # Clunky way of removing negatives, needs improving\n",
    "O_PC0 = O_PC0 ** n"
   ]
  },
  {
   "cell_type": "code",
   "execution_count": 64,
   "id": "c8e7207f",
   "metadata": {},
   "outputs": [
    {
     "data": {
      "text/plain": [
       "array([0., 0., 0., 0., 0., 0., 0., 0., 0., 0., 0., 0., 0., 0., 0., 0., 0.,\n",
       "       0., 0., 0., 0., 0., 0., 0., 0., 0., 0., 0., 0., 0., 0., 0., 0., 0.,\n",
       "       0., 0., 0., 0., 0., 0., 0., 0., 0., 0., 0., 0., 0., 0., 0., 0., 0.,\n",
       "       0., 0., 0., 0., 0., 0., 0., 0., 0., 0., 0., 0., 0., 0., 0., 0., 0.,\n",
       "       0., 0., 0., 0., 0., 0., 0., 0., 0., 0., 0., 0., 0., 0., 0., 0., 0.,\n",
       "       0., 0., 0., 0., 0., 0., 0., 0., 0., 0., 0., 0., 0., 0., 0., 0.])"
      ]
     },
     "execution_count": 64,
     "metadata": {},
     "output_type": "execute_result"
    }
   ],
   "source": [
    "O_PC0"
   ]
  },
  {
   "cell_type": "code",
   "execution_count": 66,
   "id": "efb2d738",
   "metadata": {},
   "outputs": [],
   "source": [
    "O_DC0 = (1 - c_Ca * c_CO3) ** n"
   ]
  },
  {
   "cell_type": "code",
   "execution_count": 67,
   "id": "84fa58b5",
   "metadata": {},
   "outputs": [
    {
     "data": {
      "text/plain": [
       "array([0.44830418, 0.39865632, 0.40081329, 0.40142029, 0.40100012,\n",
       "       0.40044636, 0.40018556, 0.40042044, 0.40067679, 0.40072747,\n",
       "       0.4005531 , 0.40040664, 0.40032499, 0.4004466 , 0.40044424,\n",
       "       0.40040494, 0.4003863 , 0.40036992, 0.40042171, 0.4004416 ,\n",
       "       0.40041605, 0.40045458, 0.40029377, 0.40035472, 0.40040687,\n",
       "       0.4003759 , 0.40033681, 0.40038873, 0.40038003, 0.40038471,\n",
       "       0.40039148, 0.40037155, 0.40035558, 0.40038074, 0.40035056,\n",
       "       0.40035044, 0.40030208, 0.40037147, 0.40030277, 0.40027447,\n",
       "       0.40041055, 0.4002687 , 0.40036782, 0.40035283, 0.4003242 ,\n",
       "       0.40034573, 0.40035069, 0.40037723, 0.40039871, 0.40037036,\n",
       "       0.40036451, 0.40035943, 0.4003324 , 0.40035021, 0.40033489,\n",
       "       0.40038873, 0.40033506, 0.40038188, 0.40030524, 0.40037636,\n",
       "       0.40033138, 0.40035875, 0.40036211, 0.40026262, 0.4003417 ,\n",
       "       0.40040193, 0.40032765, 0.40035237, 0.40030536, 0.40030353,\n",
       "       0.40036294, 0.40031588, 0.40040693, 0.40030007, 0.40034882,\n",
       "       0.40036236, 0.4004225 , 0.40033475, 0.40033341, 0.40033428,\n",
       "       0.40039711, 0.40037027, 0.4003272 , 0.40037195, 0.40037105,\n",
       "       0.4003281 , 0.40032276, 0.40037439, 0.40033972, 0.40037805,\n",
       "       0.40037278, 0.40032427, 0.40033797, 0.40038436, 0.40037676,\n",
       "       0.40031767, 0.40037518, 0.4004056 , 0.40035923, 0.40039452,\n",
       "       0.40033727])"
      ]
     },
     "execution_count": 67,
     "metadata": {},
     "output_type": "execute_result"
    }
   ],
   "source": [
    "O_DC0"
   ]
  },
  {
   "cell_type": "code",
   "execution_count": 68,
   "id": "737c9639",
   "metadata": {},
   "outputs": [],
   "source": [
    "O_PA = (c_Ca * c_CO3 * K_C/K_A - 1)"
   ]
  },
  {
   "cell_type": "code",
   "execution_count": 70,
   "id": "cbdb30d8",
   "metadata": {},
   "outputs": [],
   "source": [
    "O_PA[O_PA < 0] = 0\n",
    "O_PA = O_PA ** m"
   ]
  },
  {
   "cell_type": "code",
   "execution_count": 71,
   "id": "3cfd9ccc",
   "metadata": {},
   "outputs": [
    {
     "data": {
      "text/plain": [
       "array([0., 0., 0., 0., 0., 0., 0., 0., 0., 0., 0., 0., 0., 0., 0., 0., 0.,\n",
       "       0., 0., 0., 0., 0., 0., 0., 0., 0., 0., 0., 0., 0., 0., 0., 0., 0.,\n",
       "       0., 0., 0., 0., 0., 0., 0., 0., 0., 0., 0., 0., 0., 0., 0., 0., 0.,\n",
       "       0., 0., 0., 0., 0., 0., 0., 0., 0., 0., 0., 0., 0., 0., 0., 0., 0.,\n",
       "       0., 0., 0., 0., 0., 0., 0., 0., 0., 0., 0., 0., 0., 0., 0., 0., 0.,\n",
       "       0., 0., 0., 0., 0., 0., 0., 0., 0., 0., 0., 0., 0., 0., 0., 0.])"
      ]
     },
     "execution_count": 71,
     "metadata": {},
     "output_type": "execute_result"
    }
   ],
   "source": [
    "O_PA"
   ]
  },
  {
   "cell_type": "code",
   "execution_count": 74,
   "id": "97f28dd9",
   "metadata": {},
   "outputs": [],
   "source": [
    "O_DA = (1 - c_Ca * c_CO3 * K_C/K_A) ** m"
   ]
  },
  {
   "cell_type": "code",
   "execution_count": 75,
   "id": "5bc637ff",
   "metadata": {},
   "outputs": [
    {
     "data": {
      "text/plain": [
       "array([0.64017051, 0.6021623 , 0.60384514, 0.60431816, 0.60399076,\n",
       "       0.60355908, 0.6033557 , 0.60353887, 0.60373873, 0.60377824,\n",
       "       0.6036423 , 0.6035281 , 0.60346444, 0.60355926, 0.60355743,\n",
       "       0.60352678, 0.60351225, 0.60349947, 0.60353986, 0.60355537,\n",
       "       0.60353544, 0.60356549, 0.60344009, 0.60348762, 0.60352828,\n",
       "       0.60350413, 0.60347366, 0.60351414, 0.60350736, 0.60351101,\n",
       "       0.60351628, 0.60350075, 0.60348829, 0.60350791, 0.60348438,\n",
       "       0.60348428, 0.60344657, 0.60350068, 0.60344711, 0.60342504,\n",
       "       0.60353116, 0.60342054, 0.60349783, 0.60348615, 0.60346382,\n",
       "       0.60348061, 0.60348448, 0.60350517, 0.60352193, 0.60349982,\n",
       "       0.60349525, 0.6034913 , 0.60347022, 0.6034841 , 0.60347216,\n",
       "       0.60351414, 0.60347229, 0.6035088 , 0.60344904, 0.60350449,\n",
       "       0.60346942, 0.60349077, 0.60349338, 0.6034158 , 0.60347747,\n",
       "       0.60352443, 0.60346651, 0.60348579, 0.60344913, 0.6034477 ,\n",
       "       0.60349403, 0.60345733, 0.60352833, 0.603445  , 0.60348302,\n",
       "       0.60349358, 0.60354047, 0.60347205, 0.60347101, 0.60347168,\n",
       "       0.60352068, 0.60349975, 0.60346616, 0.60350106, 0.60350036,\n",
       "       0.60346686, 0.6034627 , 0.60350296, 0.60347592, 0.60350581,\n",
       "       0.6035017 , 0.60346387, 0.60347456, 0.60351074, 0.60350481,\n",
       "       0.60345873, 0.60350357, 0.60352729, 0.60349114, 0.60351865,\n",
       "       0.60347401])"
      ]
     },
     "execution_count": 75,
     "metadata": {},
     "output_type": "execute_result"
    }
   ],
   "source": [
    "O_DA"
   ]
  }
 ],
 "metadata": {
  "kernelspec": {
   "display_name": "Python 3 (ipykernel)",
   "language": "python",
   "name": "python3"
  },
  "language_info": {
   "codemirror_mode": {
    "name": "ipython",
    "version": 3
   },
   "file_extension": ".py",
   "mimetype": "text/x-python",
   "name": "python",
   "nbconvert_exporter": "python",
   "pygments_lexer": "ipython3",
   "version": "3.9.13"
  }
 },
 "nbformat": 4,
 "nbformat_minor": 5
}
