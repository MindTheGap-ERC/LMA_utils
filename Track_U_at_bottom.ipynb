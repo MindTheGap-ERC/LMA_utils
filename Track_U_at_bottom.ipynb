{
 "cells": [
  {
   "cell_type": "code",
   "execution_count": null,
   "id": "8c57671c",
   "metadata": {},
   "outputs": [],
   "source": [
    "import numpy as np\n",
    "import pandas as pd"
   ]
  },
  {
   "cell_type": "markdown",
   "id": "7eea09a5",
   "metadata": {},
   "source": [
    "We'd like to download the files from external storage. I couldn't make OSF's python utility https://github.com/osfclient/osfclient work.\n",
    "Downloading using requests doesn't work because OSF returns anything downloaded via HTTPS as html. This needs to be solved. Meanwhile one needs to provide a local path to the downloaded file."
   ]
  },
  {
   "cell_type": "code",
   "execution_count": null,
   "id": "f440f981",
   "metadata": {},
   "outputs": [],
   "source": [
    "import requests\n",
    "response = requests.get('https://osf.io/ews27/files/owncloud/19_09_2023_22_58_21%2FU_at_bottom.h5')\n",
    "response.content # comes back as html"
   ]
  },
  {
   "cell_type": "code",
   "execution_count": null,
   "id": "f1834e13",
   "metadata": {},
   "outputs": [],
   "source": [
    "U_file = pd.read_hdf(\"https://osf.io/ews27/files/owncloud/19_09_2023_22_58_21%2FU_at_bottom.h5\") # This should be the file to read if downloaded correctly\n",
    "U_at_bottom_and_times = U_file.to_numpy()\n",
    "U_at_bottom_and_times.shape"
   ]
  },
  {
   "cell_type": "markdown",
   "id": "556883b6",
   "metadata": {},
   "source": [
    "For some reason importing only the data key with pandas doesn't work so back to h5py:"
   ]
  },
  {
   "cell_type": "code",
   "execution_count": null,
   "id": "24f14f2d",
   "metadata": {},
   "outputs": [],
   "source": [
    "Solution_path = '/Users/emilia/Documents/Documents - UU101746/GitHub/Results/19_09_2023_22_58_21/LMAHeureuxPorosityDiff.hdf5' # Also to be downloaded\n",
    "# Solution_file = pd.read_hdf(Solution_path, key=\"data\", mode=\"r\")\n",
    "import h5py\n",
    "Solution = h5py.File(Solution_path, 'r')\n",
    "data = Solution['data']\n",
    "data.shape"
   ]
  },
  {
   "cell_type": "markdown",
   "id": "30eb9858",
   "metadata": {},
   "source": [
    "Check the values of U at the bottom:"
   ]
  },
  {
   "cell_type": "code",
   "execution_count": null,
   "id": "4a81196f",
   "metadata": {},
   "outputs": [],
   "source": [
    "U_at_bottom_and_times[2995:3000, 1]"
   ]
  },
  {
   "cell_type": "code",
   "execution_count": null,
   "id": "6270ea43",
   "metadata": {},
   "outputs": [],
   "source": [
    "import pylab as pyl\n",
    "pyl.figure(figsize=(10,6))\n",
    "pyl.plot(U_at_bottom_and_times[:, 0], U_at_bottom_and_times[:, 1], \".\")\n",
    "pyl.xlabel(\"Times T*\")\n",
    "pyl.ylabel(\"U\")\n",
    "pyl.show()"
   ]
  },
  {
   "cell_type": "markdown",
   "id": "57366d3d",
   "metadata": {},
   "source": [
    "### What is it supposed to be according to Eq. 46.\n",
    "The formula for K as below is used for moderate (0.05, 0.95) values of phi in Fortran and throughout in Python. So it might need changing for phi at the bottom for the calculation of U."
   ]
  },
  {
   "cell_type": "code",
   "execution_count": null,
   "id": "bc0e2b09",
   "metadata": {},
   "outputs": [],
   "source": [
    "def k_normal(phi):\n",
    "    k = betasV * phi ** 3 / (1 - phi) ** 2\n",
    "    k = k * (1 - np.exp(-10 * (1 - phi) / phi))\n",
    "    return k"
   ]
  },
  {
   "cell_type": "markdown",
   "id": "07c0a38e",
   "metadata": {},
   "source": [
    "Keeping the same convention as in Fortran for easy comparing, at the expense of creating redundant variables:"
   ]
  },
  {
   "cell_type": "code",
   "execution_count": null,
   "id": "646843af",
   "metadata": {},
   "outputs": [],
   "source": [
    "S = float(Solution.attrs['sedimentationrate'])\n",
    "Vscale = S \n",
    "beta = float(Solution.attrs['beta']) # cm/a\n",
    "P_32 = beta/Vscale\n",
    "betasV = P_32"
   ]
  },
  {
   "cell_type": "code",
   "execution_count": null,
   "id": "25e866c5",
   "metadata": {},
   "outputs": [],
   "source": [
    "phi0 = float(Solution.attrs['Phi0'])\n",
    "rhow = float(Solution.attrs['rhow'])\n",
    "rhoa = float(Solution.attrs['rhoa'])\n",
    "CA0 = float(Solution.attrs['CA0'])\n",
    "rhoc = float(Solution.attrs['rhoc'])\n",
    "CC0 = float(Solution.attrs['CC0'])\n",
    "rhot = float(Solution.attrs['rhot'])\n",
    "rhos0 = rhoa * CA0 + rhoc * CC0 + rhot * (1 - (CA0 + CC0))\n",
    "rhos0"
   ]
  },
  {
   "cell_type": "code",
   "execution_count": null,
   "id": "7aa1dd5a",
   "metadata": {},
   "outputs": [],
   "source": [
    "phi_bottom = data[3000,4,199]\n",
    "CA = data[3000,0,199]\n",
    "CC = data[3000,1,199]\n",
    "rhos_bottom = rhoa * CA + rhoc * CC + rhot * (1 - (CA + CC))"
   ]
  },
  {
   "cell_type": "code",
   "execution_count": null,
   "id": "d48812fb",
   "metadata": {},
   "outputs": [],
   "source": [
    "U = 1 - k_normal(phi0)/S * (1 - phi0) * (rhos0/rhow - 1) + k_normal(phi_bottom)/S * (1 - phi_bottom) * (rhos_bottom/rhow - 1)"
   ]
  },
  {
   "cell_type": "code",
   "execution_count": null,
   "id": "3c3673cf",
   "metadata": {},
   "outputs": [],
   "source": [
    "U"
   ]
  },
  {
   "cell_type": "code",
   "execution_count": null,
   "id": "1f289bcb",
   "metadata": {},
   "outputs": [],
   "source": [
    "import matplotlib.pyplot as plt\n",
    "t = np.array(Solution['times'][:])\n",
    "s = np.array(data[:,:,0])\n",
    "fig, ax = plt.subplots()\n",
    "ax.plot(t, s)\n",
    "ax.set(xlabel='time [T*]', ylabel='Compounds/Porosity',\n",
    "       title=f\"Phi0 = {phi0}, PhiIni = {Solution.attrs['PhiIni']}\")\n",
    "ax.grid()"
   ]
  }
 ],
 "metadata": {
  "kernelspec": {
   "display_name": "Python 3 (ipykernel)",
   "language": "python",
   "name": "python3"
  },
  "language_info": {
   "codemirror_mode": {
    "name": "ipython",
    "version": 3
   },
   "file_extension": ".py",
   "mimetype": "text/x-python",
   "name": "python",
   "nbconvert_exporter": "python",
   "pygments_lexer": "ipython3",
   "version": "3.11.4"
  }
 },
 "nbformat": 4,
 "nbformat_minor": 5
}
